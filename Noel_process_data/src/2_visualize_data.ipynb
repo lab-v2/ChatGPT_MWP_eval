{
 "cells": [
  {
   "cell_type": "markdown",
   "metadata": {},
   "source": [
    "# Visualize data"
   ]
  },
  {
   "attachments": {},
   "cell_type": "markdown",
   "metadata": {},
   "source": [
    "### 1. Extract data from files into pandas dataframe"
   ]
  },
  {
   "cell_type": "code",
   "execution_count": null,
   "metadata": {},
   "outputs": [],
   "source": [
    "import matplotlib.pyplot as plt\n",
    "import pandas as pd\n",
    "\n",
    "INPUT_FILE_PATH = \"../output/1_extract_features.json\"\n",
    "\n",
    "data = pd.read_json(INPUT_FILE_PATH)"
   ]
  },
  {
   "attachments": {},
   "cell_type": "markdown",
   "metadata": {},
   "source": [
    "### 2. Visualize data"
   ]
  },
  {
   "cell_type": "code",
   "execution_count": null,
   "metadata": {},
   "outputs": [],
   "source": [
    "# A short utility function for plotting histograms the way I want it to be plotted\n",
    "def plot_column_hist(title, x_label, data, column):\n",
    "    plt.hist(x=data[column], bins=range(0, 10), facecolor=\"peru\", edgecolor=\"black\")\n",
    "    plt.xlabel(x_label)\n",
    "    plt.ylabel('Number of Rows') \n",
    "    plt.title(title)\n",
    "    plt.show();\n",
    "\n",
    "plot_column_hist(\"L Equation, Number of Equations\", \"Number of Equations\", data, \"lEquations_num_of_equations\")\n",
    "plot_column_hist(\"L Equation, Number of Additions\", \"Number of Additions\", data, \"lEquations_num_of_additions\")\n",
    "plot_column_hist(\"L Equation, Number of Subtractions\", \"Number of Subtractions\", data, \"lEquations_num_of_subtractions\")\n",
    "plot_column_hist(\"L Equation, Number of Multiplications\", \"Number of Multiplications\", data, \"lEquations_num_of_multiplications\")\n",
    "plot_column_hist(\"L Equation, Number of Divisions\", \"Number of Divisions\", data, \"lEquations_num_of_divisions\")\n",
    "plot_column_hist(\"L Equation, Number of Parentheses\", \"Number of Parens\", data, \"lEquations_num_of_parens\")\n",
    "plot_column_hist(\"L Equation, Number of Unknowns\", \"Number of Unknowns\", data, \"lEquations_num_of_unknowns\")\n",
    "plot_column_hist(\"L Equation, Number of Divisions\", \"Number of Divisions\", data, \"lEquations_num_of_divisions\")\n",
    "\n",
    "plot_column_hist(\"Template, Number of Equations\", \"Number of Equations\", data, \"template_num_of_equations\")\n",
    "plot_column_hist(\"Template, Number of Additions\", \"Number of Additions\", data, \"template_num_of_additions\")\n",
    "plot_column_hist(\"Template, Number of Subtractions\", \"Number of Subtractions\", data, \"template_num_of_subtractions\")\n",
    "plot_column_hist(\"Template, Number of Multiplications\", \"Number of Multiplications\", data, \"template_num_of_multiplications\")\n",
    "plot_column_hist(\"Template, Number of Divisions\", \"Number of Divisions\", data, \"template_num_of_divisions\")\n",
    "plot_column_hist(\"Template, Number of Unknowns\", \"Number of Unknowns\", data, \"template_num_of_unknowns\")\n",
    "plot_column_hist(\"Template, Number of Divisions\", \"Number of Divisions\", data, \"template_num_of_divisions\")"
   ]
  }
 ],
 "metadata": {
  "kernelspec": {
   "display_name": "Python 3",
   "language": "python",
   "name": "python3"
  },
  "language_info": {
   "codemirror_mode": {
    "name": "ipython",
    "version": 3
   },
   "file_extension": ".py",
   "mimetype": "text/x-python",
   "name": "python",
   "nbconvert_exporter": "python",
   "pygments_lexer": "ipython3",
   "version": "3.11.0 (main, Oct 24 2022, 18:26:48) [MSC v.1933 64 bit (AMD64)]"
  },
  "orig_nbformat": 4,
  "vscode": {
   "interpreter": {
    "hash": "cfe9c4664b1adac3578558b9375666702796345f6bfed395f47e6472c2aea161"
   }
  }
 },
 "nbformat": 4,
 "nbformat_minor": 2
}
