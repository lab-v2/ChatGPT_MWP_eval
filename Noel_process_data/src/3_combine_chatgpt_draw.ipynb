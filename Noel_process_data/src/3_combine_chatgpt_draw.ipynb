{
 "cells": [
  {
   "cell_type": "code",
   "execution_count": null,
   "metadata": {},
   "outputs": [],
   "source": [
    "import pandas as pd\n",
    "\n",
    "DRAW_FILE_PATH = \"../output/1_extract_features.json\"\n",
    "CHATGPT_FILE_PATH = \"../input/chatgpt.json\"\n",
    "\n",
    "OUTPUT_FILE_PATH = \"../output/3_combine_chatgpt_draw.json\"\n",
    "COUNT_OUTPUT_FILE_PATH = \"../output/3_count.csv\"\n",
    "\n",
    "ALL_ANSWERS = \"has all the answers\"\n",
    "SOME_ANSWERS = \"has one or more of the answers, but not all of them\"\n",
    "ALL_ANSWERS_ROUNDED = \"has all the answers when rounded\"\n",
    "SOME_ANSWERS_ROUNDED = \"has one or more of the answers when rounded, but not all of them\"\n",
    "\n",
    "NONE = \"has none of the answers\"\n",
    "NONE_TYPO = \"has none of the answrs\"\n",
    "NO_SOLUTION = \"says no solution\"\n",
    "INVALID = \"invalid\"\n",
    "\n",
    "CORRECT = ALL_ANSWERS\n",
    "CORRECT_2 = ALL_ANSWERS\n",
    "CORRECT_3 = ALL_ANSWERS_ROUNDED\n",
    "CORRECT_4 = ALL_ANSWERS"
   ]
  },
  {
   "cell_type": "code",
   "execution_count": null,
   "metadata": {},
   "outputs": [],
   "source": [
    "draw_data = pd.read_json(DRAW_FILE_PATH)\n",
    "chatgpt_data = pd.read_json(CHATGPT_FILE_PATH)"
   ]
  },
  {
   "cell_type": "code",
   "execution_count": null,
   "metadata": {},
   "outputs": [],
   "source": [
    "draw_data[\"final_answer\"] = chatgpt_data.apply(lambda row : row[\"final_answer\"], axis=1)\n",
    "draw_data[\"result\"] = chatgpt_data.apply(lambda row : row[\"result\"], axis=1)\n",
    "draw_data\n",
    "\n",
    "# Fill in missing values\n",
    "draw_data[\"final_answer\"].fillna(INVALID, inplace=True)\n",
    "draw_data[\"result\"].fillna(INVALID, inplace=True)\n",
    "\n",
    "# Checks for correctness of rows\n",
    "draw_data[\"is_correct\"] = draw_data.apply(lambda row : 1 if row[\"result\"] == CORRECT or row[\"result\"] == CORRECT_2 or row[\"result\"] == CORRECT_3 or row[\"result\"] == CORRECT_4 else 0, axis = 1)\n",
    "\n",
    "# Checks for validity of the rows\n",
    "draw_data[\"valid\"] = draw_data.apply(lambda row : 1 if row[\"result\"] != INVALID else 0, axis = 1)\n",
    "draw_data"
   ]
  },
  {
   "cell_type": "code",
   "execution_count": null,
   "metadata": {},
   "outputs": [],
   "source": [
    "draw_data.to_json(OUTPUT_FILE_PATH)"
   ]
  }
 ],
 "metadata": {
  "kernelspec": {
   "display_name": "Python 3",
   "language": "python",
   "name": "python3"
  },
  "language_info": {
   "codemirror_mode": {
    "name": "ipython",
    "version": 3
   },
   "file_extension": ".py",
   "mimetype": "text/x-python",
   "name": "python",
   "nbconvert_exporter": "python",
   "pygments_lexer": "ipython3",
   "version": "3.11.0 (main, Oct 24 2022, 18:26:48) [MSC v.1933 64 bit (AMD64)]"
  },
  "orig_nbformat": 4,
  "vscode": {
   "interpreter": {
    "hash": "cfe9c4664b1adac3578558b9375666702796345f6bfed395f47e6472c2aea161"
   }
  }
 },
 "nbformat": 4,
 "nbformat_minor": 2
}
