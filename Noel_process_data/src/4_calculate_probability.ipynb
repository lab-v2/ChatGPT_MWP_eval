{
 "cells": [
  {
   "attachments": {},
   "cell_type": "markdown",
   "metadata": {},
   "source": [
    "# Calculate probability\n",
    "### 0. Import data and define constants"
   ]
  },
  {
   "cell_type": "code",
   "execution_count": null,
   "metadata": {},
   "outputs": [],
   "source": [
    "import pandas as pd\n",
    "\n",
    "INPUT_FILE_PATH = \"../output/3_combine_chatgpt_draw.json\"\n",
    "OUTPUT_FILE_PATH = \"../output/4_calculate_probability.json\"\n",
    "PROBABILITY_OUTPUT_FILE_PATH = \"../output/4_calculate_probability_probability.json\"\n",
    "\n",
    "# Various constants with text defined by Abhinav\n",
    "# These constants are here so that, if Abhinav changes his mind on what the strings will look like, \n",
    "# the information is centralized\n",
    "ALL_ANSWERS = \"has all the answers\"\n",
    "ALL_ANSWERS_ROUNDED = \"has all the answers when rounded\"\n",
    "SOME_SOLUTION = \"has one or more of the answers, but not all of them\"\n",
    "SOME_SOLUTION_ROUNDED = \"has one or more of the answers when rounded, but not all of them\"\n",
    "NO_SOLUTION = \"says no solution\"\n",
    "INVALID = \"invalid\""
   ]
  },
  {
   "attachments": {},
   "cell_type": "markdown",
   "metadata": {},
   "source": [
    "### 1. Extract data from files into pandas dataframe"
   ]
  },
  {
   "cell_type": "code",
   "execution_count": null,
   "metadata": {},
   "outputs": [],
   "source": [
    "data = pd.read_json(INPUT_FILE_PATH)"
   ]
  },
  {
   "cell_type": "code",
   "execution_count": null,
   "metadata": {},
   "outputs": [],
   "source": [
    "# All null values in Abhinav's dataset will be replaced with the value \"invalid\" in the previous script\n",
    "# We count the number of rows that do not have \"invalid\" as results\n",
    "def row_is_valid(row):\n",
    "    return row[\"valid\"]\n",
    "\n",
    "def number_of_valid_results (data):\n",
    "    size = data.apply(lambda row : 0 if row_is_valid(row) else 1, axis = 1).sum()\n",
    "    return size"
   ]
  },
  {
   "cell_type": "code",
   "execution_count": null,
   "metadata": {},
   "outputs": [],
   "source": [
    "def get_base_probability(data):\n",
    "    return data.apply(lambda row : row[\"is_correct\"], axis=1).sum() / number_of_valid_results(data)\n",
    "\n",
    "# Calculates the conditional probability for a particular column.\n",
    "# Furthermore, it also generates several column which is where it is the no. of mathematical features greater than or equal to 1 ... largest\n",
    "def generate_conditional_probability(data, column, largest):\n",
    "    print(\"Conditional for: \", column, \"-------------------\")\n",
    "    base_probability = get_base_probability(data)\n",
    "    \n",
    "    print(\"Base probability of success: \", base_probability)\n",
    "\n",
    "    for i in range(1, largest + 1):\n",
    "        NEW_COLUMN_NAME = column + \"_geq_\" + str(i)\n",
    "        data[NEW_COLUMN_NAME] = data.apply(lambda row : 1 if row[column] >= i else 0, axis=1)\n",
    "        conditional_size = data.head(number_of_valid_results(data)).apply(lambda row : row[NEW_COLUMN_NAME], axis=1).sum()\n",
    "        \n",
    "        if conditional_size > 0:\n",
    "            conditional_probability = data.apply(lambda row : (row[\"is_correct\"]) * row[NEW_COLUMN_NAME], axis=1).sum() / conditional_size\n",
    "            print(\"Probability of success when count is greater than or equal to\", str(i), \" is: \", conditional_probability)\n",
    "            print(\"Support:\", conditional_size, \"\")\n",
    "        else:\n",
    "            print(\"There aren't any of count greater than\", i)\n",
    "\n",
    "    print(\"\\n\")"
   ]
  },
  {
   "cell_type": "code",
   "execution_count": null,
   "metadata": {},
   "outputs": [],
   "source": [
    "# Calculate probability of succeeding considering amount of a certain feature\n",
    "for column in data.columns:\n",
    "    if column == \"sQuestion\" or column == \"lSolutions\" or column == \"Template\" or column == \"lEquations\" or column == \"iIndex\" or column == \"Alignment\" or column == \"Equiv\" or column == \"is_correct\" or column == \"valid\" or column == \"result\" or column == \"final_answer\":\n",
    "        continue\n",
    "    print(column)\n",
    "    generate_conditional_probability(data, column, 8)"
   ]
  },
  {
   "cell_type": "code",
   "execution_count": null,
   "metadata": {},
   "outputs": [],
   "source": [
    "data"
   ]
  },
  {
   "cell_type": "code",
   "execution_count": null,
   "metadata": {},
   "outputs": [],
   "source": [
    "data.to_json(OUTPUT_FILE_PATH)"
   ]
  }
 ],
 "metadata": {
  "kernelspec": {
   "display_name": "Python 3",
   "language": "python",
   "name": "python3"
  },
  "language_info": {
   "codemirror_mode": {
    "name": "ipython",
    "version": 3
   },
   "file_extension": ".py",
   "mimetype": "text/x-python",
   "name": "python",
   "nbconvert_exporter": "python",
   "pygments_lexer": "ipython3",
   "version": "3.11.0"
  },
  "orig_nbformat": 4,
  "vscode": {
   "interpreter": {
    "hash": "cfe9c4664b1adac3578558b9375666702796345f6bfed395f47e6472c2aea161"
   }
  }
 },
 "nbformat": 4,
 "nbformat_minor": 2
}
