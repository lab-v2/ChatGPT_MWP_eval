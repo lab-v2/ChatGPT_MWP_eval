{
 "cells": [
  {
   "attachments": {},
   "cell_type": "markdown",
   "id": "19ba44a3",
   "metadata": {},
   "source": [
    "# Extract features\n",
    "### 1. Extract data from files into pandas dataframe"
   ]
  },
  {
   "cell_type": "code",
   "execution_count": null,
   "id": "0b972eb1",
   "metadata": {},
   "outputs": [],
   "source": [
    "\n",
    "import pandas as pd\n",
    "\n",
    "# The file paths of all the data sets\n",
    "INPUT_FILE_PATH = \"../input/draw.json\"\n",
    "OUTPUT_FILE_PATH = \"../output/1_extract_features.json\""
   ]
  },
  {
   "cell_type": "code",
   "execution_count": null,
   "id": "44aca9ef",
   "metadata": {},
   "outputs": [],
   "source": [
    "# Creating data frames based on information in the files\n",
    "data = pd.read_json(INPUT_FILE_PATH)\n",
    "\n",
    "# Make sure json datasets were loaded correctly\n",
    "data"
   ]
  },
  {
   "attachments": {},
   "cell_type": "markdown",
   "id": "3b542e56",
   "metadata": {},
   "source": [
    "### 2. Extract attributes from equations"
   ]
  },
  {
   "cell_type": "code",
   "execution_count": null,
   "id": "783481f5",
   "metadata": {},
   "outputs": [],
   "source": [
    "# Functions to extract various attributes from math equations\n",
    "\n",
    "# This is the main equation, the others simply pass in a few parameters to calculate \n",
    "# the number of occurences of a particular character in a row and column\n",
    "def operator_count(row, column, operator):\n",
    "    equations = row[column]\n",
    "    count = 0\n",
    "    for equation in equations:\n",
    "        count += equation.count(operator)\n",
    "    return count\n",
    "        \n",
    "def lEquations_count_multiplication(row):\n",
    "    return operator_count(row, \"lEquations\", '*')\n",
    "\n",
    "def lEquations_count_addition(row):\n",
    "    return operator_count(row, \"lEquations\", '+')\n",
    "\n",
    "def lEquations_count_subtraction(row):\n",
    "    return operator_count(row, \"lEquations\", '-')\n",
    "\n",
    "def lEquations_count_division(row):\n",
    "    return operator_count(row, \"lEquations\", '/')\n",
    "\n",
    "def lEquations_count_equals(row):\n",
    "    return operator_count(row, \"lEquations\", '=')\n",
    "\n",
    "def lEquations_count_parens(row):\n",
    "    return operator_count(row, \"lEquations\", '(')\n",
    "\n",
    "\n",
    "def template_count_multiplication(row):\n",
    "    return operator_count(row, \"Template\", '*')\n",
    "\n",
    "def template_count_addition(row):\n",
    "    return operator_count(row, \"Template\", '+')\n",
    "\n",
    "def template_count_subtraction(row):\n",
    "    return operator_count(row, \"Template\", '-')\n",
    "\n",
    "def template_count_division(row):\n",
    "    return operator_count(row, \"Template\", '/')\n",
    "\n",
    "def template_count_equals(row):\n",
    "    return operator_count(row, \"Template\", '=')\n"
   ]
  },
  {
   "cell_type": "code",
   "execution_count": null,
   "id": "1f63c641",
   "metadata": {},
   "outputs": [],
   "source": [
    "import re\n",
    "import numpy as np\n",
    "\n",
    "# Checks to see if a particular string can be considered an unknown.\n",
    "# If it's a number, it's not an unknown. Otherwise, it is\n",
    "def is_unknown(x):\n",
    "    return x.isnumeric() == False\n",
    "\n",
    "# Checks to see if the string x is not empty\n",
    "def is_not_empty(x):\n",
    "    return len(x) > 0\n",
    "\n",
    "# Calculate the number of unknowns in the string\n",
    "def count_number_of_unknowns(row, column):\n",
    "    equations = row[column]\n",
    "    count = 0\n",
    "    all_unknowns = []\n",
    "    for equation in equations:\n",
    "        unknowns = re.split(r'[+-/*()=]+', equation)\n",
    "        unknowns = [s.strip() for s in unknowns]\n",
    "        unknowns = list(filter(is_unknown, unknowns))\n",
    "        unknowns = list(filter(is_not_empty, unknowns))\n",
    "        all_unknowns.extend(unknowns)\n",
    "\n",
    "    all_unknowns = np.unique(all_unknowns)\n",
    "    return len(all_unknowns)\n",
    "\n",
    "# Count the number of unknowns in lEquations\n",
    "def lEquations_count_number_of_unknowns(row):\n",
    "    return count_number_of_unknowns(row, \"lEquations\");\n",
    "\n",
    "# Counts the number of unknowns in Template\n",
    "def template_count_number_of_unknowns(row):\n",
    "    return count_number_of_unknowns(row, \"Template\");"
   ]
  },
  {
   "cell_type": "code",
   "execution_count": null,
   "id": "fb1329a6",
   "metadata": {},
   "outputs": [],
   "source": [
    "# Extract various attributes from lEquations\n",
    "data[\"lEquations_num_of_equations\"] = data[\"lEquations\"].str.len()\n",
    "data[\"lEquations_num_of_additions\"] = data.apply(lEquations_count_addition, axis = 1)\n",
    "data[\"lEquations_num_of_subtractions\"] = data.apply(lEquations_count_subtraction, axis = 1)\n",
    "data[\"lEquations_num_of_multiplications\"] = data.apply(lEquations_count_multiplication, axis = 1)\n",
    "data[\"lEquations_num_of_divisions\"] = data.apply(lEquations_count_division, axis = 1)\n",
    "data[\"lEquations_num_of_parens\"] = data.apply(lEquations_count_parens, axis = 1)\n",
    "data[\"lEquations_num_of_unknowns\"] = data.apply(lEquations_count_number_of_unknowns, axis = 1)\n",
    "\n",
    "data[\"lEquations_num_of_subtractions_and_addition\"] = data[\"lEquations_num_of_additions\"] + data[\"lEquations_num_of_subtractions\"]\n",
    "data[\"lEquations_num_of_division_and_multiplication\"] = data[\"lEquations_num_of_multiplications\"] + data[\"lEquations_num_of_divisions\"]\n",
    "\n",
    "# Extract various attributes from Template\n",
    "data[\"template_num_of_equations\"] = data[\"Template\"].str.len()\n",
    "data[\"template_num_of_additions\"] = data.apply(template_count_addition, axis = 1)\n",
    "data[\"template_num_of_subtractions\"] = data.apply(template_count_subtraction, axis = 1)\n",
    "data[\"template_num_of_multiplications\"] = data.apply(template_count_multiplication, axis = 1)\n",
    "data[\"template_num_of_divisions\"] = data.apply(template_count_division, axis = 1)\n",
    "data[\"template_num_of_unknowns\"] = data.apply(template_count_number_of_unknowns, axis = 1)\n",
    "\n",
    "data[\"template_num_of_subtractions_and_addition\"] = data[\"template_num_of_additions\"] + data[\"template_num_of_subtractions\"]\n",
    "data[\"template_num_of_division_and_multiplication\"] = data[\"template_num_of_multiplications\"] + data[\"template_num_of_divisions\"]\n",
    "\n",
    "to_drop = [\n",
    "    \"template_num_of_additions\",\n",
    "    \"template_num_of_subtractions\",\n",
    "    \"template_num_of_multiplications\",\n",
    "    \"template_num_of_divisions\",\n",
    "    \"lEquations_num_of_additions\",\n",
    "    \"lEquations_num_of_subtractions\",\n",
    "    \"lEquations_num_of_multiplications\",\n",
    "    \"lEquations_num_of_divisions\"\n",
    "]\n",
    "\n",
    "data.drop(to_drop, axis=1, inplace=True)\n",
    "data"
   ]
  },
  {
   "attachments": {},
   "cell_type": "markdown",
   "id": "8b2f6ce8",
   "metadata": {},
   "source": [
    "### 3. Save data to a csv file"
   ]
  },
  {
   "cell_type": "code",
   "execution_count": null,
   "id": "95ec9a14",
   "metadata": {},
   "outputs": [],
   "source": [
    "data.to_json(OUTPUT_FILE_PATH)"
   ]
  }
 ],
 "metadata": {
  "kernelspec": {
   "display_name": "Python 3 (ipykernel)",
   "language": "python",
   "name": "python3"
  },
  "language_info": {
   "codemirror_mode": {
    "name": "ipython",
    "version": 3
   },
   "file_extension": ".py",
   "mimetype": "text/x-python",
   "name": "python",
   "nbconvert_exporter": "python",
   "pygments_lexer": "ipython3",
   "version": "3.11.0 (main, Oct 24 2022, 18:26:48) [MSC v.1933 64 bit (AMD64)]"
  },
  "vscode": {
   "interpreter": {
    "hash": "cfe9c4664b1adac3578558b9375666702796345f6bfed395f47e6472c2aea161"
   }
  }
 },
 "nbformat": 4,
 "nbformat_minor": 5
}
